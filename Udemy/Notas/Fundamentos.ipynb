{
 "cells": [
  {
   "cell_type": "markdown",
   "id": "2482bfc5",
   "metadata": {},
   "source": [
    "# Primeiros passos"
   ]
  },
  {
   "cell_type": "code",
   "execution_count": null,
   "id": "28cdb32c",
   "metadata": {},
   "outputs": [],
   "source": [
    "print('Primeiro programa')\n",
    "1+2"
   ]
  },
  {
   "cell_type": "markdown",
   "id": "5bfb3638",
   "metadata": {},
   "source": []
  },
  {
   "cell_type": "code",
   "execution_count": 2,
   "id": "15449797",
   "metadata": {},
   "outputs": [
    {
     "name": "stdout",
     "output_type": "stream",
     "text": [
      "Help on built-in function print in module builtins:\n",
      "\n",
      "print(...)\n",
      "    print(value, ..., sep=' ', end='\\n', file=sys.stdout, flush=False)\n",
      "    \n",
      "    Prints the values to a stream, or to sys.stdout by default.\n",
      "    Optional keyword arguments:\n",
      "    file:  a file-like object (stream); defaults to the current sys.stdout.\n",
      "    sep:   string inserted between values, default a space.\n",
      "    end:   string appended after the last value, default a newline.\n",
      "    flush: whether to forcibly flush the stream.\n",
      "\n"
     ]
    }
   ],
   "source": [
    "help(print)"
   ]
  },
  {
   "cell_type": "code",
   "execution_count": 6,
   "id": "a1bb03e6",
   "metadata": {},
   "outputs": [
    {
     "name": "stdout",
     "output_type": "stream",
     "text": [
      "37.5\n",
      "11.8\n"
     ]
    }
   ],
   "source": [
    "print(35 +5 /2)\n",
    "print(59/ 5)"
   ]
  },
  {
   "cell_type": "markdown",
   "id": "0f2d7868",
   "metadata": {},
   "source": [
    "# Tipos basicos"
   ]
  },
  {
   "cell_type": "code",
   "execution_count": 19,
   "id": "51520b7e",
   "metadata": {},
   "outputs": [
    {
     "name": "stdout",
     "output_type": "stream",
     "text": [
      "True\n",
      "False\n",
      "2.2\n",
      "Aqui eu falooooo\n",
      "Você émuitoosssmuitoosssmuitoosss\n",
      "[1, 2, 2]\n",
      "{'nome': 'pedro', 'idade': '25'}\n"
     ]
    }
   ],
   "source": [
    "print(True)\n",
    "print(False)\n",
    "print(1.2 +1)\n",
    "print('Aqui eu falooooo')\n",
    "print('Você é' + 3 * 'muitoosss')\n",
    "#print(\" \" + 3 + \"a\")\n",
    "print([1, 2, 2])\n",
    "print({'nome':'pedro', 'idade': '25'})"
   ]
  },
  {
   "cell_type": "markdown",
   "id": "cbb078cd",
   "metadata": {},
   "source": [
    "# Variaveis "
   ]
  },
  {
   "cell_type": "code",
   "execution_count": 21,
   "id": "6047a2b0",
   "metadata": {},
   "outputs": [
    {
     "name": "stdout",
     "output_type": "stream",
     "text": [
      "15\n"
     ]
    },
    {
     "ename": "TypeError",
     "evalue": "can only concatenate str (not \"int\") to str",
     "output_type": "error",
     "traceback": [
      "\u001b[1;31m---------------------------------------------------------------------------\u001b[0m",
      "\u001b[1;31mTypeError\u001b[0m                                 Traceback (most recent call last)",
      "\u001b[1;32m~\\AppData\\Local\\Temp\\ipykernel_37568\\2755722347.py\u001b[0m in \u001b[0;36m<module>\u001b[1;34m\u001b[0m\n\u001b[0;32m      3\u001b[0m \u001b[0mprint\u001b[0m\u001b[1;33m(\u001b[0m\u001b[0ma\u001b[0m\u001b[1;33m+\u001b[0m\u001b[0mb\u001b[0m\u001b[1;33m)\u001b[0m\u001b[1;33m\u001b[0m\u001b[1;33m\u001b[0m\u001b[0m\n\u001b[0;32m      4\u001b[0m \u001b[0ma\u001b[0m \u001b[1;33m=\u001b[0m \u001b[1;34m\"Sou top\"\u001b[0m\u001b[1;33m\u001b[0m\u001b[1;33m\u001b[0m\u001b[0m\n\u001b[1;32m----> 5\u001b[1;33m \u001b[0mprint\u001b[0m\u001b[1;33m(\u001b[0m\u001b[0ma\u001b[0m\u001b[1;33m+\u001b[0m\u001b[0mb\u001b[0m\u001b[1;33m)\u001b[0m\u001b[1;33m\u001b[0m\u001b[1;33m\u001b[0m\u001b[0m\n\u001b[0m",
      "\u001b[1;31mTypeError\u001b[0m: can only concatenate str (not \"int\") to str"
     ]
    }
   ],
   "source": [
    "a = 10\n",
    "b = 5\n",
    "print(a+b)\n",
    "a = \"Sou top\"\n",
    "print(a+b)\n",
    "#eu posso mudar o tipo de uma variavel,mas ele ainda sebe o que estou trabalhando"
   ]
  },
  {
   "cell_type": "code",
   "execution_count": null,
   "id": "d519d2dc",
   "metadata": {},
   "outputs": [],
   "source": []
  }
 ],
 "metadata": {
  "kernelspec": {
   "display_name": "Python 3 (ipykernel)",
   "language": "python",
   "name": "python3"
  },
  "language_info": {
   "codemirror_mode": {
    "name": "ipython",
    "version": 3
   },
   "file_extension": ".py",
   "mimetype": "text/x-python",
   "name": "python",
   "nbconvert_exporter": "python",
   "pygments_lexer": "ipython3",
   "version": "3.9.13"
  }
 },
 "nbformat": 4,
 "nbformat_minor": 5
}
